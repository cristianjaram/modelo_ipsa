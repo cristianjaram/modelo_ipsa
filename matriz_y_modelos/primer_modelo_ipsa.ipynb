{
 "cells": [
  {
   "cell_type": "code",
   "execution_count": 1,
   "metadata": {},
   "outputs": [],
   "source": [
    "import numpy as np\n",
    "import pandas as pd"
   ]
  },
  {
   "cell_type": "code",
   "execution_count": 2,
   "metadata": {},
   "outputs": [],
   "source": [
    "# Lectura de los datos del ipsa\n",
    "ruta_ipsa = '../ipsa_matriz_final.csv'\n",
    "ipsa = pd.read_csv(ruta_ipsa)"
   ]
  },
  {
   "cell_type": "code",
   "execution_count": 3,
   "metadata": {},
   "outputs": [
    {
     "data": {
      "text/html": [
       "<div>\n",
       "<style scoped>\n",
       "    .dataframe tbody tr th:only-of-type {\n",
       "        vertical-align: middle;\n",
       "    }\n",
       "\n",
       "    .dataframe tbody tr th {\n",
       "        vertical-align: top;\n",
       "    }\n",
       "\n",
       "    .dataframe thead th {\n",
       "        text-align: right;\n",
       "    }\n",
       "</style>\n",
       "<table border=\"1\" class=\"dataframe\">\n",
       "  <thead>\n",
       "    <tr style=\"text-align: right;\">\n",
       "      <th></th>\n",
       "      <th>Unnamed: 0</th>\n",
       "      <th>fecha</th>\n",
       "      <th>cierre</th>\n",
       "      <th>apertura</th>\n",
       "      <th>max</th>\n",
       "      <th>min</th>\n",
       "      <th>var_un_dia</th>\n",
       "      <th>dia</th>\n",
       "      <th>mes</th>\n",
       "      <th>anho</th>\n",
       "      <th>var_dos_dias</th>\n",
       "      <th>var_tres_dias</th>\n",
       "      <th>var_semana</th>\n",
       "      <th>var_empresa_uno</th>\n",
       "      <th>var_empresa_dos</th>\n",
       "      <th>var_empresa_tres</th>\n",
       "      <th>dolar</th>\n",
       "      <th>cu</th>\n",
       "      <th>subio</th>\n",
       "    </tr>\n",
       "  </thead>\n",
       "  <tbody>\n",
       "    <tr>\n",
       "      <th>0</th>\n",
       "      <td>0</td>\n",
       "      <td>30.09.2022</td>\n",
       "      <td>5035.38</td>\n",
       "      <td>5100.24</td>\n",
       "      <td>5109.40</td>\n",
       "      <td>5024.98</td>\n",
       "      <td>-1.27</td>\n",
       "      <td>30</td>\n",
       "      <td>9</td>\n",
       "      <td>22</td>\n",
       "      <td>-2.77</td>\n",
       "      <td>-3.30</td>\n",
       "      <td>-8.83</td>\n",
       "      <td>-0.18</td>\n",
       "      <td>-2.00</td>\n",
       "      <td>-0.80</td>\n",
       "      <td>0.80</td>\n",
       "      <td>1.35</td>\n",
       "      <td>True</td>\n",
       "    </tr>\n",
       "    <tr>\n",
       "      <th>1</th>\n",
       "      <td>1</td>\n",
       "      <td>29.09.2022</td>\n",
       "      <td>5100.24</td>\n",
       "      <td>5180.64</td>\n",
       "      <td>5191.90</td>\n",
       "      <td>5099.70</td>\n",
       "      <td>-1.55</td>\n",
       "      <td>29</td>\n",
       "      <td>9</td>\n",
       "      <td>22</td>\n",
       "      <td>-2.05</td>\n",
       "      <td>-3.82</td>\n",
       "      <td>-9.08</td>\n",
       "      <td>-4.33</td>\n",
       "      <td>-0.79</td>\n",
       "      <td>-0.39</td>\n",
       "      <td>-2.92</td>\n",
       "      <td>2.35</td>\n",
       "      <td>False</td>\n",
       "    </tr>\n",
       "    <tr>\n",
       "      <th>2</th>\n",
       "      <td>2</td>\n",
       "      <td>28.09.2022</td>\n",
       "      <td>5180.64</td>\n",
       "      <td>5178.75</td>\n",
       "      <td>5222.29</td>\n",
       "      <td>5140.17</td>\n",
       "      <td>0.04</td>\n",
       "      <td>28</td>\n",
       "      <td>9</td>\n",
       "      <td>22</td>\n",
       "      <td>-2.31</td>\n",
       "      <td>-3.51</td>\n",
       "      <td>-7.17</td>\n",
       "      <td>-2.19</td>\n",
       "      <td>-0.10</td>\n",
       "      <td>-0.28</td>\n",
       "      <td>-0.89</td>\n",
       "      <td>-0.30</td>\n",
       "      <td>False</td>\n",
       "    </tr>\n",
       "    <tr>\n",
       "      <th>3</th>\n",
       "      <td>3</td>\n",
       "      <td>27.09.2022</td>\n",
       "      <td>5178.75</td>\n",
       "      <td>5207.22</td>\n",
       "      <td>5249.16</td>\n",
       "      <td>5176.10</td>\n",
       "      <td>-0.55</td>\n",
       "      <td>27</td>\n",
       "      <td>9</td>\n",
       "      <td>22</td>\n",
       "      <td>-3.55</td>\n",
       "      <td>-3.04</td>\n",
       "      <td>-7.46</td>\n",
       "      <td>-1.17</td>\n",
       "      <td>-4.82</td>\n",
       "      <td>-0.93</td>\n",
       "      <td>2.46</td>\n",
       "      <td>-1.55</td>\n",
       "      <td>True</td>\n",
       "    </tr>\n",
       "    <tr>\n",
       "      <th>4</th>\n",
       "      <td>4</td>\n",
       "      <td>26.09.2022</td>\n",
       "      <td>5207.22</td>\n",
       "      <td>5303.06</td>\n",
       "      <td>5303.06</td>\n",
       "      <td>5207.09</td>\n",
       "      <td>-1.81</td>\n",
       "      <td>26</td>\n",
       "      <td>9</td>\n",
       "      <td>22</td>\n",
       "      <td>-2.50</td>\n",
       "      <td>-5.72</td>\n",
       "      <td>-7.21</td>\n",
       "      <td>-1.21</td>\n",
       "      <td>0.76</td>\n",
       "      <td>0.54</td>\n",
       "      <td>2.65</td>\n",
       "      <td>-3.59</td>\n",
       "      <td>False</td>\n",
       "    </tr>\n",
       "  </tbody>\n",
       "</table>\n",
       "</div>"
      ],
      "text/plain": [
       "   Unnamed: 0       fecha   cierre  apertura      max      min  var_un_dia  \\\n",
       "0           0  30.09.2022  5035.38   5100.24  5109.40  5024.98       -1.27   \n",
       "1           1  29.09.2022  5100.24   5180.64  5191.90  5099.70       -1.55   \n",
       "2           2  28.09.2022  5180.64   5178.75  5222.29  5140.17        0.04   \n",
       "3           3  27.09.2022  5178.75   5207.22  5249.16  5176.10       -0.55   \n",
       "4           4  26.09.2022  5207.22   5303.06  5303.06  5207.09       -1.81   \n",
       "\n",
       "   dia  mes  anho  var_dos_dias  var_tres_dias  var_semana  var_empresa_uno  \\\n",
       "0   30    9    22         -2.77          -3.30       -8.83            -0.18   \n",
       "1   29    9    22         -2.05          -3.82       -9.08            -4.33   \n",
       "2   28    9    22         -2.31          -3.51       -7.17            -2.19   \n",
       "3   27    9    22         -3.55          -3.04       -7.46            -1.17   \n",
       "4   26    9    22         -2.50          -5.72       -7.21            -1.21   \n",
       "\n",
       "   var_empresa_dos  var_empresa_tres  dolar    cu  subio  \n",
       "0            -2.00             -0.80   0.80  1.35   True  \n",
       "1            -0.79             -0.39  -2.92  2.35  False  \n",
       "2            -0.10             -0.28  -0.89 -0.30  False  \n",
       "3            -4.82             -0.93   2.46 -1.55   True  \n",
       "4             0.76              0.54   2.65 -3.59  False  "
      ]
     },
     "execution_count": 3,
     "metadata": {},
     "output_type": "execute_result"
    }
   ],
   "source": [
    "# Vemos el head para confirmar que este todo bien \n",
    "ipsa.head()"
   ]
  },
  {
   "cell_type": "code",
   "execution_count": 4,
   "metadata": {},
   "outputs": [
    {
     "data": {
      "text/plain": [
       "['Unnamed: 0',\n",
       " 'fecha',\n",
       " 'cierre',\n",
       " 'apertura',\n",
       " 'max',\n",
       " 'min',\n",
       " 'var_un_dia',\n",
       " 'dia',\n",
       " 'mes',\n",
       " 'anho',\n",
       " 'var_dos_dias',\n",
       " 'var_tres_dias',\n",
       " 'var_semana',\n",
       " 'var_empresa_uno',\n",
       " 'var_empresa_dos',\n",
       " 'var_empresa_tres',\n",
       " 'dolar',\n",
       " 'cu',\n",
       " 'subio']"
      ]
     },
     "execution_count": 4,
     "metadata": {},
     "output_type": "execute_result"
    }
   ],
   "source": [
    "# Vemos todas las columnas de la matriz\n",
    "list(ipsa.columns)"
   ]
  },
  {
   "cell_type": "code",
   "execution_count": 5,
   "metadata": {},
   "outputs": [],
   "source": [
    "# Definimos cuales van a ser las variables en las que se va a basar el modelo\n",
    "caracteristicas = ['dia','mes','anho','cierre', 'apertura', 'max', 'min', 'var_un_dia', 'var_dos_dias', 'var_tres_dias', 'var_semana', 'var_empresa_uno', 'var_empresa_dos', 'var_empresa_tres', 'dolar', 'cu']"
   ]
  },
  {
   "cell_type": "code",
   "execution_count": 6,
   "metadata": {},
   "outputs": [],
   "source": [
    "# Pasamos las variables en las que se va a basar el modelo a numpy\n",
    "X = ipsa.loc[:,caracteristicas].to_numpy()"
   ]
  },
  {
   "cell_type": "code",
   "execution_count": 7,
   "metadata": {},
   "outputs": [],
   "source": [
    "# Definimos la etiqueta de la variable que se va a buscar predecir \n",
    "etiqueta = ['subio']"
   ]
  },
  {
   "cell_type": "code",
   "execution_count": 8,
   "metadata": {},
   "outputs": [],
   "source": [
    "# Pasamos la varaible que se busca predecir a numpy\n",
    "y = ipsa.loc[:,etiqueta].to_numpy()"
   ]
  },
  {
   "cell_type": "code",
   "execution_count": 9,
   "metadata": {},
   "outputs": [
    {
     "data": {
      "text/plain": [
       "array([48.44444444])"
      ]
     },
     "execution_count": 9,
     "metadata": {},
     "output_type": "execute_result"
    }
   ],
   "source": [
    "# Que % de los dias subio el IPSA\n",
    "sum(y)/float(len(y))*100"
   ]
  },
  {
   "cell_type": "code",
   "execution_count": 10,
   "metadata": {},
   "outputs": [],
   "source": [
    "# Se importan las librerias que se van a utilizar para hacerel modelo predictivo\n",
    "from sklearn.tree import DecisionTreeClassifier\n",
    "from sklearn.model_selection import train_test_split"
   ]
  },
  {
   "cell_type": "code",
   "execution_count": 11,
   "metadata": {},
   "outputs": [],
   "source": [
    "# Se definen las matrices de prueba y las matrices de entrenamiento \n",
    "X_train, X_test, y_train, y_test = train_test_split(X, y, test_size=0.25)"
   ]
  },
  {
   "cell_type": "code",
   "execution_count": 12,
   "metadata": {},
   "outputs": [],
   "source": [
    "# Se crea el modelo de decision tree\n",
    "modelo = DecisionTreeClassifier(max_depth = 8)"
   ]
  },
  {
   "cell_type": "code",
   "execution_count": 13,
   "metadata": {},
   "outputs": [
    {
     "data": {
      "text/html": [
       "<style>#sk-container-id-1 {color: black;background-color: white;}#sk-container-id-1 pre{padding: 0;}#sk-container-id-1 div.sk-toggleable {background-color: white;}#sk-container-id-1 label.sk-toggleable__label {cursor: pointer;display: block;width: 100%;margin-bottom: 0;padding: 0.3em;box-sizing: border-box;text-align: center;}#sk-container-id-1 label.sk-toggleable__label-arrow:before {content: \"▸\";float: left;margin-right: 0.25em;color: #696969;}#sk-container-id-1 label.sk-toggleable__label-arrow:hover:before {color: black;}#sk-container-id-1 div.sk-estimator:hover label.sk-toggleable__label-arrow:before {color: black;}#sk-container-id-1 div.sk-toggleable__content {max-height: 0;max-width: 0;overflow: hidden;text-align: left;background-color: #f0f8ff;}#sk-container-id-1 div.sk-toggleable__content pre {margin: 0.2em;color: black;border-radius: 0.25em;background-color: #f0f8ff;}#sk-container-id-1 input.sk-toggleable__control:checked~div.sk-toggleable__content {max-height: 200px;max-width: 100%;overflow: auto;}#sk-container-id-1 input.sk-toggleable__control:checked~label.sk-toggleable__label-arrow:before {content: \"▾\";}#sk-container-id-1 div.sk-estimator input.sk-toggleable__control:checked~label.sk-toggleable__label {background-color: #d4ebff;}#sk-container-id-1 div.sk-label input.sk-toggleable__control:checked~label.sk-toggleable__label {background-color: #d4ebff;}#sk-container-id-1 input.sk-hidden--visually {border: 0;clip: rect(1px 1px 1px 1px);clip: rect(1px, 1px, 1px, 1px);height: 1px;margin: -1px;overflow: hidden;padding: 0;position: absolute;width: 1px;}#sk-container-id-1 div.sk-estimator {font-family: monospace;background-color: #f0f8ff;border: 1px dotted black;border-radius: 0.25em;box-sizing: border-box;margin-bottom: 0.5em;}#sk-container-id-1 div.sk-estimator:hover {background-color: #d4ebff;}#sk-container-id-1 div.sk-parallel-item::after {content: \"\";width: 100%;border-bottom: 1px solid gray;flex-grow: 1;}#sk-container-id-1 div.sk-label:hover label.sk-toggleable__label {background-color: #d4ebff;}#sk-container-id-1 div.sk-serial::before {content: \"\";position: absolute;border-left: 1px solid gray;box-sizing: border-box;top: 0;bottom: 0;left: 50%;z-index: 0;}#sk-container-id-1 div.sk-serial {display: flex;flex-direction: column;align-items: center;background-color: white;padding-right: 0.2em;padding-left: 0.2em;position: relative;}#sk-container-id-1 div.sk-item {position: relative;z-index: 1;}#sk-container-id-1 div.sk-parallel {display: flex;align-items: stretch;justify-content: center;background-color: white;position: relative;}#sk-container-id-1 div.sk-item::before, #sk-container-id-1 div.sk-parallel-item::before {content: \"\";position: absolute;border-left: 1px solid gray;box-sizing: border-box;top: 0;bottom: 0;left: 50%;z-index: -1;}#sk-container-id-1 div.sk-parallel-item {display: flex;flex-direction: column;z-index: 1;position: relative;background-color: white;}#sk-container-id-1 div.sk-parallel-item:first-child::after {align-self: flex-end;width: 50%;}#sk-container-id-1 div.sk-parallel-item:last-child::after {align-self: flex-start;width: 50%;}#sk-container-id-1 div.sk-parallel-item:only-child::after {width: 0;}#sk-container-id-1 div.sk-dashed-wrapped {border: 1px dashed gray;margin: 0 0.4em 0.5em 0.4em;box-sizing: border-box;padding-bottom: 0.4em;background-color: white;}#sk-container-id-1 div.sk-label label {font-family: monospace;font-weight: bold;display: inline-block;line-height: 1.2em;}#sk-container-id-1 div.sk-label-container {text-align: center;}#sk-container-id-1 div.sk-container {/* jupyter's `normalize.less` sets `[hidden] { display: none; }` but bootstrap.min.css set `[hidden] { display: none !important; }` so we also need the `!important` here to be able to override the default hidden behavior on the sphinx rendered scikit-learn.org. See: https://github.com/scikit-learn/scikit-learn/issues/21755 */display: inline-block !important;position: relative;}#sk-container-id-1 div.sk-text-repr-fallback {display: none;}</style><div id=\"sk-container-id-1\" class=\"sk-top-container\"><div class=\"sk-text-repr-fallback\"><pre>DecisionTreeClassifier(max_depth=8)</pre><b>In a Jupyter environment, please rerun this cell to show the HTML representation or trust the notebook. <br />On GitHub, the HTML representation is unable to render, please try loading this page with nbviewer.org.</b></div><div class=\"sk-container\" hidden><div class=\"sk-item\"><div class=\"sk-estimator sk-toggleable\"><input class=\"sk-toggleable__control sk-hidden--visually\" id=\"sk-estimator-id-1\" type=\"checkbox\" checked><label for=\"sk-estimator-id-1\" class=\"sk-toggleable__label sk-toggleable__label-arrow\">DecisionTreeClassifier</label><div class=\"sk-toggleable__content\"><pre>DecisionTreeClassifier(max_depth=8)</pre></div></div></div></div></div>"
      ],
      "text/plain": [
       "DecisionTreeClassifier(max_depth=8)"
      ]
     },
     "execution_count": 13,
     "metadata": {},
     "output_type": "execute_result"
    }
   ],
   "source": [
    "# Se hace el fit del modelo con las matrices de entrenamiento\n",
    "modelo.fit(X_train, y_train)"
   ]
  },
  {
   "cell_type": "code",
   "execution_count": 14,
   "metadata": {},
   "outputs": [],
   "source": [
    "# Se hace la prediccion de la matriz de prueba para posteriormente sacar las metricas del modelo\n",
    "Y_pred = modelo.predict(X_test)"
   ]
  },
  {
   "cell_type": "code",
   "execution_count": 15,
   "metadata": {},
   "outputs": [],
   "source": [
    "# Se importa la libreria necesaria para hacer las metricas del modelo\n",
    "from sklearn.metrics import confusion_matrix"
   ]
  },
  {
   "cell_type": "code",
   "execution_count": 16,
   "metadata": {},
   "outputs": [],
   "source": [
    "# Se definen los verdaderos negativos 'tn', los falsos positivos 'fp', los falsos negativos 'fn' y los verdaderos positivos 'tp' utilizando la \n",
    "# funcion confusion_matrix \n",
    "tn, fp, fn, tp = confusion_matrix(y_test, Y_pred).ravel()"
   ]
  },
  {
   "cell_type": "code",
   "execution_count": 17,
   "metadata": {},
   "outputs": [
    {
     "name": "stdout",
     "output_type": "stream",
     "text": [
      "tn: 66\n",
      "fp: 87\n",
      "fn: 43\n",
      "tp: 86\n"
     ]
    }
   ],
   "source": [
    "# Se imprimen los valores definidos anteriormente \n",
    "print('tn: ' + str(tn))\n",
    "print('fp: ' + str(fp))\n",
    "print('fn: ' + str(fn))\n",
    "print('tp: ' + str(tp))"
   ]
  },
  {
   "cell_type": "code",
   "execution_count": 18,
   "metadata": {},
   "outputs": [],
   "source": [
    "# Se calcualan todos las metricas importantes tal y como fueron vistas en clases \n",
    "correctitud = (tp+tn)/float(tp+fp+fn+tn)\n",
    "sensibilidad = (tp)/float(tp+fn)\n",
    "especificidad = (tn)/float(fp+tn)\n",
    "precision = (tp)/float(tp+fp)\n",
    "tasa_real = (tp+fn)/float(tp+fp+fn+tn)\n",
    "f1_score = 2*(precision*sensibilidad)/float(precision+sensibilidad)"
   ]
  },
  {
   "cell_type": "code",
   "execution_count": 19,
   "metadata": {},
   "outputs": [
    {
     "name": "stdout",
     "output_type": "stream",
     "text": [
      "correctitud: 53.9%\n",
      "sensibilidad: 66.67%\n",
      "especificidad: 43.14%\n",
      "precision: 49.71%\n",
      "tasa_real: 45.74%\n",
      "f1_score: 56.95%\n"
     ]
    }
   ],
   "source": [
    "# Se imprimen todas las metricas antes calculadas \n",
    "print(\"correctitud: \" + str(np.round(correctitud*100,2)) + \"%\")\n",
    "print(\"sensibilidad: \" + str(np.round(sensibilidad*100,2)) + \"%\")\n",
    "print(\"especificidad: \" + str(np.round(especificidad*100,2)) + \"%\")\n",
    "print(\"precision: \" + str(np.round(precision*100,2)) + \"%\")\n",
    "print(\"tasa_real: \" + str(np.round(tasa_real*100,2)) + \"%\")\n",
    "print(\"f1_score: \" + str(np.round(f1_score*100,2)) + \"%\")"
   ]
  },
  {
   "cell_type": "code",
   "execution_count": 20,
   "metadata": {},
   "outputs": [],
   "source": [
    "# Se importa la libreria \n",
    "from sklearn.tree import export_graphviz"
   ]
  },
  {
   "cell_type": "code",
   "execution_count": 21,
   "metadata": {},
   "outputs": [],
   "source": [
    "# Se crea el arbol de decision como un archivo .dot\n",
    "with open(\"arbol_decision.dot\", 'w') as archivo_dot:\n",
    "    export_graphviz(modelo, out_file = archivo_dot, filled=True, rounded=True, special_characters=False, impurity=False, feature_names=caracteristicas)"
   ]
  },
  {
   "cell_type": "code",
   "execution_count": 22,
   "metadata": {},
   "outputs": [],
   "source": [
    "# Se transforma el archivo .dot a un archivo .png\n",
    "!dot -Tjpeg arbol_decision.dot -o arbol_decision.png"
   ]
  }
 ],
 "metadata": {
  "kernelspec": {
   "display_name": "Python 3.10.4 64-bit",
   "language": "python",
   "name": "python3"
  },
  "language_info": {
   "codemirror_mode": {
    "name": "ipython",
    "version": 3
   },
   "file_extension": ".py",
   "mimetype": "text/x-python",
   "name": "python",
   "nbconvert_exporter": "python",
   "pygments_lexer": "ipython3",
   "version": "3.10.4 (v3.10.4:9d38120e33, Mar 23 2022, 17:29:05) [Clang 13.0.0 (clang-1300.0.29.30)]"
  },
  "orig_nbformat": 4,
  "vscode": {
   "interpreter": {
    "hash": "aee8b7b246df8f9039afb4144a1f6fd8d2ca17a180786b69acc140d282b71a49"
   }
  }
 },
 "nbformat": 4,
 "nbformat_minor": 2
}
